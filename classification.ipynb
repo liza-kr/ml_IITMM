{
 "cells": [
  {
   "cell_type": "markdown",
   "source": [
    "Данные, которые собраны для составления рейтинга сортов и видов вин."
   ],
   "metadata": {
    "collapsed": false,
    "pycharm": {
     "name": "#%% md\n"
    }
   }
  },
  {
   "cell_type": "code",
   "execution_count": 1,
   "outputs": [],
   "source": [
    "import numpy as np              # Массивы (матрицы, векторы, линейная алгебра)\n",
    "import matplotlib.pyplot as plt # Научная графика\n",
    "%matplotlib inline\n",
    "import pandas as pd             # Таблицы и временные ряды (dataframe, series)\n",
    "import seaborn as sns           # Еще больше красивой графики для визуализации данных\n",
    "import sklearn                  # Алгоритмы машинного обучения"
   ],
   "metadata": {
    "collapsed": false,
    "pycharm": {
     "name": "#%%\n"
    }
   }
  },
  {
   "cell_type": "code",
   "execution_count": 2,
   "outputs": [],
   "source": [
    "data_path = \"D:\\iitmm\\Machine Learning\\classification\\winemag-data_first150k.csv\""
   ],
   "metadata": {
    "collapsed": false,
    "pycharm": {
     "name": "#%%\n"
    }
   }
  },
  {
   "cell_type": "code",
   "execution_count": 3,
   "outputs": [],
   "source": [
    "data = pd.read_csv(data_path)"
   ],
   "metadata": {
    "collapsed": false,
    "pycharm": {
     "name": "#%%\n"
    }
   }
  },
  {
   "cell_type": "code",
   "execution_count": 4,
   "outputs": [
    {
     "data": {
      "text/plain": "   Unnamed: 0 country                                        description  \\\n0           0      US  This tremendous 100% varietal wine hails from ...   \n1           1   Spain  Ripe aromas of fig, blackberry and cassis are ...   \n2           2      US  Mac Watson honors the memory of a wine once ma...   \n3           3      US  This spent 20 months in 30% new French oak, an...   \n4           4  France  This is the top wine from La Bégude, named aft...   \n5           5   Spain  Deep, dense and pure from the opening bell, th...   \n6           6   Spain  Slightly gritty black-fruit aromas include a s...   \n7           7   Spain  Lush cedary black-fruit aromas are luxe and of...   \n8           8      US  This re-named vineyard was formerly bottled as...   \n9           9      US  The producer sources from two blocks of the vi...   \n\n                            designation  points  price        province  \\\n0                     Martha's Vineyard      96  235.0      California   \n1  Carodorum Selección Especial Reserva      96  110.0  Northern Spain   \n2         Special Selected Late Harvest      96   90.0      California   \n3                               Reserve      96   65.0          Oregon   \n4                            La Brûlade      95   66.0        Provence   \n5                             Numanthia      95   73.0  Northern Spain   \n6                             San Román      95   65.0  Northern Spain   \n7               Carodorum Único Crianza      95  110.0  Northern Spain   \n8                                Silice      95   65.0          Oregon   \n9                  Gap's Crown Vineyard      95   60.0      California   \n\n             region_1           region_2             variety  \\\n0         Napa Valley               Napa  Cabernet Sauvignon   \n1                Toro                NaN       Tinta de Toro   \n2      Knights Valley             Sonoma     Sauvignon Blanc   \n3   Willamette Valley  Willamette Valley          Pinot Noir   \n4              Bandol                NaN  Provence red blend   \n5                Toro                NaN       Tinta de Toro   \n6                Toro                NaN       Tinta de Toro   \n7                Toro                NaN       Tinta de Toro   \n8  Chehalem Mountains  Willamette Valley          Pinot Noir   \n9        Sonoma Coast             Sonoma          Pinot Noir   \n\n                    winery  \n0                    Heitz  \n1  Bodega Carmen Rodríguez  \n2                 Macauley  \n3                    Ponzi  \n4     Domaine de la Bégude  \n5                Numanthia  \n6                 Maurodos  \n7  Bodega Carmen Rodríguez  \n8                Bergström  \n9                Blue Farm  ",
      "text/html": "<div>\n<style scoped>\n    .dataframe tbody tr th:only-of-type {\n        vertical-align: middle;\n    }\n\n    .dataframe tbody tr th {\n        vertical-align: top;\n    }\n\n    .dataframe thead th {\n        text-align: right;\n    }\n</style>\n<table border=\"1\" class=\"dataframe\">\n  <thead>\n    <tr style=\"text-align: right;\">\n      <th></th>\n      <th>Unnamed: 0</th>\n      <th>country</th>\n      <th>description</th>\n      <th>designation</th>\n      <th>points</th>\n      <th>price</th>\n      <th>province</th>\n      <th>region_1</th>\n      <th>region_2</th>\n      <th>variety</th>\n      <th>winery</th>\n    </tr>\n  </thead>\n  <tbody>\n    <tr>\n      <th>0</th>\n      <td>0</td>\n      <td>US</td>\n      <td>This tremendous 100% varietal wine hails from ...</td>\n      <td>Martha's Vineyard</td>\n      <td>96</td>\n      <td>235.0</td>\n      <td>California</td>\n      <td>Napa Valley</td>\n      <td>Napa</td>\n      <td>Cabernet Sauvignon</td>\n      <td>Heitz</td>\n    </tr>\n    <tr>\n      <th>1</th>\n      <td>1</td>\n      <td>Spain</td>\n      <td>Ripe aromas of fig, blackberry and cassis are ...</td>\n      <td>Carodorum Selección Especial Reserva</td>\n      <td>96</td>\n      <td>110.0</td>\n      <td>Northern Spain</td>\n      <td>Toro</td>\n      <td>NaN</td>\n      <td>Tinta de Toro</td>\n      <td>Bodega Carmen Rodríguez</td>\n    </tr>\n    <tr>\n      <th>2</th>\n      <td>2</td>\n      <td>US</td>\n      <td>Mac Watson honors the memory of a wine once ma...</td>\n      <td>Special Selected Late Harvest</td>\n      <td>96</td>\n      <td>90.0</td>\n      <td>California</td>\n      <td>Knights Valley</td>\n      <td>Sonoma</td>\n      <td>Sauvignon Blanc</td>\n      <td>Macauley</td>\n    </tr>\n    <tr>\n      <th>3</th>\n      <td>3</td>\n      <td>US</td>\n      <td>This spent 20 months in 30% new French oak, an...</td>\n      <td>Reserve</td>\n      <td>96</td>\n      <td>65.0</td>\n      <td>Oregon</td>\n      <td>Willamette Valley</td>\n      <td>Willamette Valley</td>\n      <td>Pinot Noir</td>\n      <td>Ponzi</td>\n    </tr>\n    <tr>\n      <th>4</th>\n      <td>4</td>\n      <td>France</td>\n      <td>This is the top wine from La Bégude, named aft...</td>\n      <td>La Brûlade</td>\n      <td>95</td>\n      <td>66.0</td>\n      <td>Provence</td>\n      <td>Bandol</td>\n      <td>NaN</td>\n      <td>Provence red blend</td>\n      <td>Domaine de la Bégude</td>\n    </tr>\n    <tr>\n      <th>5</th>\n      <td>5</td>\n      <td>Spain</td>\n      <td>Deep, dense and pure from the opening bell, th...</td>\n      <td>Numanthia</td>\n      <td>95</td>\n      <td>73.0</td>\n      <td>Northern Spain</td>\n      <td>Toro</td>\n      <td>NaN</td>\n      <td>Tinta de Toro</td>\n      <td>Numanthia</td>\n    </tr>\n    <tr>\n      <th>6</th>\n      <td>6</td>\n      <td>Spain</td>\n      <td>Slightly gritty black-fruit aromas include a s...</td>\n      <td>San Román</td>\n      <td>95</td>\n      <td>65.0</td>\n      <td>Northern Spain</td>\n      <td>Toro</td>\n      <td>NaN</td>\n      <td>Tinta de Toro</td>\n      <td>Maurodos</td>\n    </tr>\n    <tr>\n      <th>7</th>\n      <td>7</td>\n      <td>Spain</td>\n      <td>Lush cedary black-fruit aromas are luxe and of...</td>\n      <td>Carodorum Único Crianza</td>\n      <td>95</td>\n      <td>110.0</td>\n      <td>Northern Spain</td>\n      <td>Toro</td>\n      <td>NaN</td>\n      <td>Tinta de Toro</td>\n      <td>Bodega Carmen Rodríguez</td>\n    </tr>\n    <tr>\n      <th>8</th>\n      <td>8</td>\n      <td>US</td>\n      <td>This re-named vineyard was formerly bottled as...</td>\n      <td>Silice</td>\n      <td>95</td>\n      <td>65.0</td>\n      <td>Oregon</td>\n      <td>Chehalem Mountains</td>\n      <td>Willamette Valley</td>\n      <td>Pinot Noir</td>\n      <td>Bergström</td>\n    </tr>\n    <tr>\n      <th>9</th>\n      <td>9</td>\n      <td>US</td>\n      <td>The producer sources from two blocks of the vi...</td>\n      <td>Gap's Crown Vineyard</td>\n      <td>95</td>\n      <td>60.0</td>\n      <td>California</td>\n      <td>Sonoma Coast</td>\n      <td>Sonoma</td>\n      <td>Pinot Noir</td>\n      <td>Blue Farm</td>\n    </tr>\n  </tbody>\n</table>\n</div>"
     },
     "execution_count": 4,
     "metadata": {},
     "output_type": "execute_result"
    }
   ],
   "source": [
    "data.head(10)"
   ],
   "metadata": {
    "collapsed": false,
    "pycharm": {
     "name": "#%%\n"
    }
   }
  },
  {
   "cell_type": "markdown",
   "source": [
    "На основе данных прочитанного файла видно, что в нем находится следующая информация:\n",
    "- country - в какой стране было произведено вино\n",
    "- description - описание вкуса вина\n",
    "- designation - название места, где было произведено вино\n",
    "- points - Количество \"баллов\" WineEnthusiast по шкале 1-100\n",
    "- price - цена за бутылку\n",
    "- province - провинция или штат, где произведено вино\n",
    "- region_1 - место, где выращивают виноград для вина\n",
    "- region_2 - более специфическое название региона или места\n",
    "- variety - тип винограда, используемого для производства вина\n",
    "Признаки присутствуют как категориальные, так числовые и просто текстовые."
   ],
   "metadata": {
    "collapsed": false,
    "pycharm": {
     "name": "#%% md\n"
    }
   }
  },
  {
   "cell_type": "code",
   "execution_count": 5,
   "outputs": [
    {
     "data": {
      "text/plain": "(150930, 11)"
     },
     "execution_count": 5,
     "metadata": {},
     "output_type": "execute_result"
    }
   ],
   "source": [
    "data.shape"
   ],
   "metadata": {
    "collapsed": false,
    "pycharm": {
     "name": "#%%\n"
    }
   }
  },
  {
   "cell_type": "markdown",
   "source": [
    "Данный файл содержит более 150 000 данных, 11 критериев.\n",
    "Выведем список названия столбцов."
   ],
   "metadata": {
    "collapsed": false,
    "pycharm": {
     "name": "#%% md\n"
    }
   }
  },
  {
   "cell_type": "code",
   "execution_count": 6,
   "outputs": [
    {
     "data": {
      "text/plain": "Index(['Unnamed: 0', 'country', 'description', 'designation', 'points',\n       'price', 'province', 'region_1', 'region_2', 'variety', 'winery'],\n      dtype='object')"
     },
     "execution_count": 6,
     "metadata": {},
     "output_type": "execute_result"
    }
   ],
   "source": [
    "data.columns"
   ],
   "metadata": {
    "collapsed": false,
    "pycharm": {
     "name": "#%%\n"
    }
   }
  },
  {
   "cell_type": "code",
   "execution_count": 7,
   "outputs": [
    {
     "name": "stdout",
     "output_type": "stream",
     "text": [
      "object\n"
     ]
    },
    {
     "data": {
      "text/plain": "CategoricalDtype(categories=['Albania', 'Argentina', 'Australia', 'Austria',\n                  'Bosnia and Herzegovina', 'Brazil', 'Bulgaria', 'Canada',\n                  'Chile', 'China', 'Croatia', 'Cyprus', 'Czech Republic',\n                  'Egypt', 'England', 'France', 'Georgia', 'Germany', 'Greece',\n                  'Hungary', 'India', 'Israel', 'Italy', 'Japan', 'Lebanon',\n                  'Lithuania', 'Luxembourg', 'Macedonia', 'Mexico', 'Moldova',\n                  'Montenegro', 'Morocco', 'New Zealand', 'Portugal',\n                  'Romania', 'Serbia', 'Slovakia', 'Slovenia', 'South Africa',\n                  'South Korea', 'Spain', 'Switzerland', 'Tunisia', 'Turkey',\n                  'US', 'US-France', 'Ukraine', 'Uruguay'],\n, ordered=False)"
     },
     "execution_count": 7,
     "metadata": {},
     "output_type": "execute_result"
    }
   ],
   "source": [
    "print(data['country'].dtype)\n",
    "data['country'] = data['country'].astype('category')\n",
    "data['country'].dtype"
   ],
   "metadata": {
    "collapsed": false,
    "pycharm": {
     "name": "#%%\n"
    }
   }
  },
  {
   "cell_type": "code",
   "execution_count": 8,
   "outputs": [
    {
     "name": "stdout",
     "output_type": "stream",
     "text": [
      "object\n"
     ]
    },
    {
     "data": {
      "text/plain": "CategoricalDtype(categories=['\"M\"', '#50 Mon Chou', '#SocialSecret', ''72',\n                  ''A Naca Rosso', ''A Rina', ''Na Vota', ''Nearly Naked'',\n                  ''S'', ''l Clumbé',\n                  ...\n                  'Ürziger Würzgarten Auslese Goldkap',\n                  'Ürziger Würzgarten Beerenauslese',\n                  'Ürziger Würzgarten Eiswein', 'Ürziger Würzgarten Kabinett',\n                  'Ürziger Würzgarten Spätlese', 'étoile Brut', 'ía',\n                  'ía Crianza', 'Župska', '‘Rough Justice' Red'],\n, ordered=False)"
     },
     "execution_count": 8,
     "metadata": {},
     "output_type": "execute_result"
    }
   ],
   "source": [
    "print(data['designation'].dtype)\n",
    "data['designation'] = data['designation'].astype('category')\n",
    "data['designation'].dtype"
   ],
   "metadata": {
    "collapsed": false,
    "pycharm": {
     "name": "#%%\n"
    }
   }
  },
  {
   "cell_type": "code",
   "execution_count": 9,
   "outputs": [
    {
     "name": "stdout",
     "output_type": "stream",
     "text": [
      "object\n"
     ]
    },
    {
     "data": {
      "text/plain": "CategoricalDtype(categories=['Achaia', 'Aconcagua Costa', 'Aconcagua Valley', 'Aegean',\n                  'Ahr', 'Aigialias Slopes', 'Alenquer', 'Alentejano',\n                  'Alentejo', 'Alenteo',\n                  ...\n                  'Wellington', 'Western Australia', 'Western Cape',\n                  'Wiener Gemischter Satz', 'Württemberg', 'Zenata', 'Zitsa',\n                  'Österreichischer Sekt', 'Štajerska', 'Župa'],\n, ordered=False)"
     },
     "execution_count": 9,
     "metadata": {},
     "output_type": "execute_result"
    }
   ],
   "source": [
    "print(data['province'].dtype)\n",
    "data['province'] = data['province'].astype('category')\n",
    "data['province'].dtype"
   ],
   "metadata": {
    "collapsed": false,
    "pycharm": {
     "name": "#%%\n"
    }
   }
  },
  {
   "cell_type": "code",
   "execution_count": 10,
   "outputs": [],
   "source": [
    "data['region_1'] = data['region_1'].astype('category')\n",
    "data['region_2'] = data['region_2'].astype('category')\n",
    "data['winery'] = data['winery'].astype('category')\n",
    "data['variety'] = data['variety'].astype('category')"
   ],
   "metadata": {
    "collapsed": false,
    "pycharm": {
     "name": "#%%\n"
    }
   }
  },
  {
   "cell_type": "markdown",
   "source": [
    "Мы преобразовали все категориальные данные к виду categorial"
   ],
   "metadata": {
    "collapsed": false,
    "pycharm": {
     "name": "#%% md\n"
    }
   }
  },
  {
   "cell_type": "code",
   "execution_count": 11,
   "outputs": [
    {
     "data": {
      "text/plain": "   Unnamed: 0 country                                        description  \\\n0           0      US  This tremendous 100% varietal wine hails from ...   \n1           1   Spain  Ripe aromas of fig, blackberry and cassis are ...   \n2           2      US  Mac Watson honors the memory of a wine once ma...   \n3           3      US  This spent 20 months in 30% new French oak, an...   \n4           4  France  This is the top wine from La Bégude, named aft...   \n\n                            designation  points  price        province  \\\n0                     Martha's Vineyard      96  235.0      California   \n1  Carodorum Selección Especial Reserva      96  110.0  Northern Spain   \n2         Special Selected Late Harvest      96   90.0      California   \n3                               Reserve      96   65.0          Oregon   \n4                            La Brûlade      95   66.0        Provence   \n\n            region_1           region_2             variety  \\\n0        Napa Valley               Napa  Cabernet Sauvignon   \n1               Toro                NaN       Tinta de Toro   \n2     Knights Valley             Sonoma     Sauvignon Blanc   \n3  Willamette Valley  Willamette Valley          Pinot Noir   \n4             Bandol                NaN  Provence red blend   \n\n                    winery  \n0                    Heitz  \n1  Bodega Carmen Rodríguez  \n2                 Macauley  \n3                    Ponzi  \n4     Domaine de la Bégude  ",
      "text/html": "<div>\n<style scoped>\n    .dataframe tbody tr th:only-of-type {\n        vertical-align: middle;\n    }\n\n    .dataframe tbody tr th {\n        vertical-align: top;\n    }\n\n    .dataframe thead th {\n        text-align: right;\n    }\n</style>\n<table border=\"1\" class=\"dataframe\">\n  <thead>\n    <tr style=\"text-align: right;\">\n      <th></th>\n      <th>Unnamed: 0</th>\n      <th>country</th>\n      <th>description</th>\n      <th>designation</th>\n      <th>points</th>\n      <th>price</th>\n      <th>province</th>\n      <th>region_1</th>\n      <th>region_2</th>\n      <th>variety</th>\n      <th>winery</th>\n    </tr>\n  </thead>\n  <tbody>\n    <tr>\n      <th>0</th>\n      <td>0</td>\n      <td>US</td>\n      <td>This tremendous 100% varietal wine hails from ...</td>\n      <td>Martha's Vineyard</td>\n      <td>96</td>\n      <td>235.0</td>\n      <td>California</td>\n      <td>Napa Valley</td>\n      <td>Napa</td>\n      <td>Cabernet Sauvignon</td>\n      <td>Heitz</td>\n    </tr>\n    <tr>\n      <th>1</th>\n      <td>1</td>\n      <td>Spain</td>\n      <td>Ripe aromas of fig, blackberry and cassis are ...</td>\n      <td>Carodorum Selección Especial Reserva</td>\n      <td>96</td>\n      <td>110.0</td>\n      <td>Northern Spain</td>\n      <td>Toro</td>\n      <td>NaN</td>\n      <td>Tinta de Toro</td>\n      <td>Bodega Carmen Rodríguez</td>\n    </tr>\n    <tr>\n      <th>2</th>\n      <td>2</td>\n      <td>US</td>\n      <td>Mac Watson honors the memory of a wine once ma...</td>\n      <td>Special Selected Late Harvest</td>\n      <td>96</td>\n      <td>90.0</td>\n      <td>California</td>\n      <td>Knights Valley</td>\n      <td>Sonoma</td>\n      <td>Sauvignon Blanc</td>\n      <td>Macauley</td>\n    </tr>\n    <tr>\n      <th>3</th>\n      <td>3</td>\n      <td>US</td>\n      <td>This spent 20 months in 30% new French oak, an...</td>\n      <td>Reserve</td>\n      <td>96</td>\n      <td>65.0</td>\n      <td>Oregon</td>\n      <td>Willamette Valley</td>\n      <td>Willamette Valley</td>\n      <td>Pinot Noir</td>\n      <td>Ponzi</td>\n    </tr>\n    <tr>\n      <th>4</th>\n      <td>4</td>\n      <td>France</td>\n      <td>This is the top wine from La Bégude, named aft...</td>\n      <td>La Brûlade</td>\n      <td>95</td>\n      <td>66.0</td>\n      <td>Provence</td>\n      <td>Bandol</td>\n      <td>NaN</td>\n      <td>Provence red blend</td>\n      <td>Domaine de la Bégude</td>\n    </tr>\n  </tbody>\n</table>\n</div>"
     },
     "execution_count": 11,
     "metadata": {},
     "output_type": "execute_result"
    }
   ],
   "source": [
    "data.head()"
   ],
   "metadata": {
    "collapsed": false,
    "pycharm": {
     "name": "#%%\n"
    }
   }
  },
  {
   "cell_type": "markdown",
   "source": [
    "Посмотрим зависимость цены от количества баллов, поставленных сорту, на графике."
   ],
   "metadata": {
    "collapsed": false,
    "pycharm": {
     "name": "#%% md\n"
    }
   }
  },
  {
   "cell_type": "code",
   "execution_count": 12,
   "outputs": [
    {
     "data": {
      "text/plain": "<matplotlib.collections.PathCollection at 0x18cc738ffd0>"
     },
     "execution_count": 12,
     "metadata": {},
     "output_type": "execute_result"
    },
    {
     "data": {
      "text/plain": "<Figure size 640x480 with 1 Axes>",
      "image/png": "[encoded data removed]"
     },
     "metadata": {},
     "output_type": "display_data"
    }
   ],
   "source": [
    "plt.scatter(data['price'], data['points'])"
   ],
   "metadata": {
    "collapsed": false,
    "pycharm": {
     "name": "#%%\n"
    }
   }
  },
  {
   "cell_type": "markdown",
   "source": [
    "По информации, которая была получена в ходе построения графика, можно сказать, что, в среднем, цена не сильно меняется с увеличением оценки качества и вкуса, однако, существуют и исключения. Для постоения более полноценной картины необходимо провести более глубокий анализ. Однако наши данные на данном этапе не подходят для анализа, так как в них присутствуют выбросы и у некоторых видов вин отсутствуют данные."
   ],
   "metadata": {
    "collapsed": false,
    "pycharm": {
     "name": "#%% md\n"
    }
   }
  },
  {
   "cell_type": "code",
   "execution_count": 13,
   "outputs": [
    {
     "name": "stdout",
     "output_type": "stream",
     "text": [
      "0.005      7.0\n",
      "0.010      8.0\n",
      "0.050     10.0\n",
      "0.100     12.0\n",
      "0.500     24.0\n",
      "0.900     60.0\n",
      "0.950     80.0\n",
      "0.990    150.0\n",
      "0.995    220.0\n",
      "Name: price, dtype: float64\n",
      "0.005    80.0\n",
      "0.010    81.0\n",
      "0.050    83.0\n",
      "0.100    84.0\n",
      "0.500    88.0\n",
      "0.900    92.0\n",
      "0.950    93.0\n",
      "0.990    95.0\n",
      "0.995    96.0\n",
      "Name: points, dtype: float64\n"
     ]
    }
   ],
   "source": [
    "print(data['price'].quantile([0.005,.01,.05,.1,.5,.9,.95,.99,.995]))\n",
    "print(data['points'].quantile([0.005,.01,.05,.1,.5,.9,.95,.99,.995]))"
   ],
   "metadata": {
    "collapsed": false,
    "pycharm": {
     "name": "#%%\n"
    }
   }
  },
  {
   "cell_type": "markdown",
   "source": [
    "Необходимо удалить выбросы, то есть те данные, которые выходят за пределы 0.005 и 0.995. Построим матрицу корреляций, чтобы увидеть зависимость между числовыми данными."
   ],
   "metadata": {
    "collapsed": false,
    "pycharm": {
     "name": "#%% md\n"
    }
   }
  },
  {
   "cell_type": "code",
   "execution_count": 14,
   "outputs": [
    {
     "data": {
      "text/plain": "            Unnamed: 0    points     price\nUnnamed: 0    1.000000 -0.094197 -0.036687\npoints       -0.094197  1.000000  0.459863\nprice        -0.036687  0.459863  1.000000",
      "text/html": "<div>\n<style scoped>\n    .dataframe tbody tr th:only-of-type {\n        vertical-align: middle;\n    }\n\n    .dataframe tbody tr th {\n        vertical-align: top;\n    }\n\n    .dataframe thead th {\n        text-align: right;\n    }\n</style>\n<table border=\"1\" class=\"dataframe\">\n  <thead>\n    <tr style=\"text-align: right;\">\n      <th></th>\n      <th>Unnamed: 0</th>\n      <th>points</th>\n      <th>price</th>\n    </tr>\n  </thead>\n  <tbody>\n    <tr>\n      <th>Unnamed: 0</th>\n      <td>1.000000</td>\n      <td>-0.094197</td>\n      <td>-0.036687</td>\n    </tr>\n    <tr>\n      <th>points</th>\n      <td>-0.094197</td>\n      <td>1.000000</td>\n      <td>0.459863</td>\n    </tr>\n    <tr>\n      <th>price</th>\n      <td>-0.036687</td>\n      <td>0.459863</td>\n      <td>1.000000</td>\n    </tr>\n  </tbody>\n</table>\n</div>"
     },
     "execution_count": 14,
     "metadata": {},
     "output_type": "execute_result"
    }
   ],
   "source": [
    "data.corr()"
   ],
   "metadata": {
    "collapsed": false,
    "pycharm": {
     "name": "#%%\n"
    }
   }
  },
  {
   "cell_type": "markdown",
   "source": [
    "Из матрицы коррелиции видно, что значение корреляции меньше 0.5, значит, удалять данные нет необходимости. Поэтому ограничимся удалением выбросов."
   ],
   "metadata": {
    "collapsed": false,
    "pycharm": {
     "name": "#%% md\n"
    }
   }
  },
  {
   "cell_type": "code",
   "execution_count": 15,
   "outputs": [
    {
     "data": {
      "text/plain": "(149414, 11)"
     },
     "execution_count": 15,
     "metadata": {},
     "output_type": "execute_result"
    }
   ],
   "source": [
    "rows_to_drop = data[\n",
    "    (data['price'] < data['price'].quantile(0.005)) | (data['price'] > data['price'].quantile(0.995)) |\n",
    "    (data['points']  < data['points' ].quantile(0.005)) | (data['points']  > data['points' ].quantile(0.995))].index\n",
    "new_data = data.drop(rows_to_drop)\n",
    "new_data.shape"
   ],
   "metadata": {
    "collapsed": false,
    "pycharm": {
     "name": "#%%\n"
    }
   }
  },
  {
   "cell_type": "markdown",
   "source": [
    "Около тысячи данных были удалены, так как они загрязняли нашу выборку. Теперь можно попробовать визуализировать наши данные."
   ],
   "metadata": {
    "collapsed": false,
    "pycharm": {
     "name": "#%% md\n"
    }
   }
  },
  {
   "cell_type": "markdown",
   "source": [
    "# Визуализация"
   ],
   "metadata": {
    "collapsed": false,
    "pycharm": {
     "name": "#%% md\n"
    }
   }
  },
  {
   "cell_type": "markdown",
   "source": [
    "Сначала выведем сводную информацию по очищенной выборке."
   ],
   "metadata": {
    "collapsed": false,
    "pycharm": {
     "name": "#%% md\n"
    }
   }
  },
  {
   "cell_type": "code",
   "execution_count": 16,
   "outputs": [
    {
     "data": {
      "text/plain": "          Unnamed: 0         points          price\ncount  149414.000000  149414.000000  135808.000000\nmean    75419.179347      87.843709      31.397974\nstd     43563.607247       3.152030      24.115318\nmin         1.000000      80.000000       7.000000\n25%     37737.250000      86.000000      16.000000\n50%     75372.500000      88.000000      24.000000\n75%    113101.750000      90.000000      40.000000\nmax    150929.000000      96.000000     220.000000",
      "text/html": "<div>\n<style scoped>\n    .dataframe tbody tr th:only-of-type {\n        vertical-align: middle;\n    }\n\n    .dataframe tbody tr th {\n        vertical-align: top;\n    }\n\n    .dataframe thead th {\n        text-align: right;\n    }\n</style>\n<table border=\"1\" class=\"dataframe\">\n  <thead>\n    <tr style=\"text-align: right;\">\n      <th></th>\n      <th>Unnamed: 0</th>\n      <th>points</th>\n      <th>price</th>\n    </tr>\n  </thead>\n  <tbody>\n    <tr>\n      <th>count</th>\n      <td>149414.000000</td>\n      <td>149414.000000</td>\n      <td>135808.000000</td>\n    </tr>\n    <tr>\n      <th>mean</th>\n      <td>75419.179347</td>\n      <td>87.843709</td>\n      <td>31.397974</td>\n    </tr>\n    <tr>\n      <th>std</th>\n      <td>43563.607247</td>\n      <td>3.152030</td>\n      <td>24.115318</td>\n    </tr>\n    <tr>\n      <th>min</th>\n      <td>1.000000</td>\n      <td>80.000000</td>\n      <td>7.000000</td>\n    </tr>\n    <tr>\n      <th>25%</th>\n      <td>37737.250000</td>\n      <td>86.000000</td>\n      <td>16.000000</td>\n    </tr>\n    <tr>\n      <th>50%</th>\n      <td>75372.500000</td>\n      <td>88.000000</td>\n      <td>24.000000</td>\n    </tr>\n    <tr>\n      <th>75%</th>\n      <td>113101.750000</td>\n      <td>90.000000</td>\n      <td>40.000000</td>\n    </tr>\n    <tr>\n      <th>max</th>\n      <td>150929.000000</td>\n      <td>96.000000</td>\n      <td>220.000000</td>\n    </tr>\n  </tbody>\n</table>\n</div>"
     },
     "execution_count": 16,
     "metadata": {},
     "output_type": "execute_result"
    }
   ],
   "source": [
    "new_data.describe()"
   ],
   "metadata": {
    "collapsed": false,
    "pycharm": {
     "name": "#%%\n"
    }
   }
  },
  {
   "cell_type": "markdown",
   "source": [
    "Общее количество данных: 149 414 видов вин\n",
    "Среднее количество баллов рейтинга от 1 до 100: 87.84\n",
    "Средняя цена за бутылку: 31 доллар за бутылку\n",
    "Стандартное отклонение от среднего балла: 3\n",
    "Стандартное отклонение от средней цены за бутылку: 24 доллара\n",
    "Вино с самым низким рейтингом - 80 баллов, самое дешевое вино - 7 долларов за бутылку\n",
    "Самый высокий балл - 96, самая высокая цена за бутылку - 220 долларов"
   ],
   "metadata": {
    "collapsed": false,
    "pycharm": {
     "name": "#%% md\n"
    }
   }
  },
  {
   "cell_type": "code",
   "execution_count": 17,
   "outputs": [
    {
     "data": {
      "text/plain": "       country designation    province     region_1       region_2  \\\ncount   149409      104173      149409       124543          60567   \nunique      48       30418         454         1228             18   \ntop         US     Reserve  California  Napa Valley  Central Coast   \nfreq     62008        2744       44182         6112          13049   \n\n           variety           winery  \ncount       149414           149414  \nunique         632            14749  \ntop     Chardonnay  Williams Selyem  \nfreq         14321              344  ",
      "text/html": "<div>\n<style scoped>\n    .dataframe tbody tr th:only-of-type {\n        vertical-align: middle;\n    }\n\n    .dataframe tbody tr th {\n        vertical-align: top;\n    }\n\n    .dataframe thead th {\n        text-align: right;\n    }\n</style>\n<table border=\"1\" class=\"dataframe\">\n  <thead>\n    <tr style=\"text-align: right;\">\n      <th></th>\n      <th>country</th>\n      <th>designation</th>\n      <th>province</th>\n      <th>region_1</th>\n      <th>region_2</th>\n      <th>variety</th>\n      <th>winery</th>\n    </tr>\n  </thead>\n  <tbody>\n    <tr>\n      <th>count</th>\n      <td>149409</td>\n      <td>104173</td>\n      <td>149409</td>\n      <td>124543</td>\n      <td>60567</td>\n      <td>149414</td>\n      <td>149414</td>\n    </tr>\n    <tr>\n      <th>unique</th>\n      <td>48</td>\n      <td>30418</td>\n      <td>454</td>\n      <td>1228</td>\n      <td>18</td>\n      <td>632</td>\n      <td>14749</td>\n    </tr>\n    <tr>\n      <th>top</th>\n      <td>US</td>\n      <td>Reserve</td>\n      <td>California</td>\n      <td>Napa Valley</td>\n      <td>Central Coast</td>\n      <td>Chardonnay</td>\n      <td>Williams Selyem</td>\n    </tr>\n    <tr>\n      <th>freq</th>\n      <td>62008</td>\n      <td>2744</td>\n      <td>44182</td>\n      <td>6112</td>\n      <td>13049</td>\n      <td>14321</td>\n      <td>344</td>\n    </tr>\n  </tbody>\n</table>\n</div>"
     },
     "execution_count": 17,
     "metadata": {},
     "output_type": "execute_result"
    }
   ],
   "source": [
    "new_data.describe(include=['category'])"
   ],
   "metadata": {
    "collapsed": false,
    "pycharm": {
     "name": "#%%\n"
    }
   }
  },
  {
   "cell_type": "markdown",
   "source": [
    "Наибольшее количество вина было произведено в US - Соединенные штаты, провинция - Калифорния\n",
    "Всего стран участвовали в анализе - 48 и из них Соединенные Штаты встречались 62 008 раз, из которых Штат Калифорния упоминался 44 182 раза.\n",
    "Самая популярная винодельня, которая производила 344 вида вина, - Williams Selyem, США, штат Калифорния.\n",
    "Самый популярная разновидность вина - Шардане - 14 321 раз встретилась среди 632 разновидностей вин."
   ],
   "metadata": {
    "collapsed": false,
    "pycharm": {
     "name": "#%% md\n"
    }
   }
  },
  {
   "cell_type": "code",
   "execution_count": 18,
   "outputs": [
    {
     "data": {
      "text/plain": "<matplotlib.collections.PathCollection at 0x18cbfaf7310>"
     },
     "execution_count": 18,
     "metadata": {},
     "output_type": "execute_result"
    },
    {
     "data": {
      "text/plain": "<Figure size 640x480 with 1 Axes>",
      "image/png": "[encoded data removed]"
     },
     "metadata": {},
     "output_type": "display_data"
    }
   ],
   "source": [
    "plt.scatter(new_data['points'], new_data['price'], alpha=0.01)"
   ],
   "metadata": {
    "collapsed": false,
    "pycharm": {
     "name": "#%%\n"
    }
   }
  },
  {
   "cell_type": "markdown",
   "source": [
    "На графике видно, что основной разброс цены - до 50 долларов с рейтингом до 88 баллов и до 100 долларов с рейтингом 86 и выше. Это говорит о том, что цены, в среднем, колеблятся не сильно. От средней цены разница (дисперсия по оценке полученного графика - не точная) около 30 долларов."
   ],
   "metadata": {
    "collapsed": false,
    "pycharm": {
     "name": "#%% md\n"
    }
   }
  },
  {
   "cell_type": "markdown",
   "source": [
    "В нашей выборке, в столбце regoin_2 есть пропущенные значения. Так как эти значения не были не добавлены случайно, а этих данных просто нет, дабы избежать пустых ячеек скопируем в них данные из столбца region_1."
   ],
   "metadata": {
    "collapsed": false,
    "pycharm": {
     "name": "#%% md\n"
    }
   }
  },
  {
   "cell_type": "code",
   "execution_count": 19,
   "outputs": [
    {
     "name": "stdout",
     "output_type": "stream",
     "text": [
      "        Unnamed: 0  country  description  designation  points  price  \\\n",
      "1            False    False        False        False   False  False   \n",
      "2            False    False        False        False   False  False   \n",
      "3            False    False        False        False   False  False   \n",
      "4            False    False        False        False   False  False   \n",
      "5            False    False        False        False   False  False   \n",
      "...            ...      ...          ...          ...     ...    ...   \n",
      "150925       False    False        False         True   False  False   \n",
      "150926       False    False        False        False   False  False   \n",
      "150927       False    False        False        False   False  False   \n",
      "150928       False    False        False        False   False  False   \n",
      "150929       False    False        False         True   False  False   \n",
      "\n",
      "        province  region_1  region_2  variety  winery  \n",
      "1          False     False      True    False   False  \n",
      "2          False     False     False    False   False  \n",
      "3          False     False     False    False   False  \n",
      "4          False     False      True    False   False  \n",
      "5          False     False      True    False   False  \n",
      "...          ...       ...       ...      ...     ...  \n",
      "150925     False     False      True    False   False  \n",
      "150926     False     False      True    False   False  \n",
      "150927     False     False      True    False   False  \n",
      "150928     False     False      True    False   False  \n",
      "150929     False     False      True    False   False  \n",
      "\n",
      "[149414 rows x 11 columns]\n"
     ]
    }
   ],
   "source": [
    "print(new_data.isna())"
   ],
   "metadata": {
    "collapsed": false,
    "pycharm": {
     "name": "#%%\n"
    }
   }
  },
  {
   "cell_type": "code",
   "execution_count": 20,
   "outputs": [
    {
     "name": "stdout",
     "output_type": "stream",
     "text": [
      "<class 'pandas.core.frame.DataFrame'>\n",
      "Int64Index: 149414 entries, 1 to 150929\n",
      "Data columns (total 11 columns):\n",
      " #   Column       Non-Null Count   Dtype   \n",
      "---  ------       --------------   -----   \n",
      " 0   Unnamed: 0   149414 non-null  int64   \n",
      " 1   country      149409 non-null  category\n",
      " 2   description  149414 non-null  object  \n",
      " 3   designation  104173 non-null  category\n",
      " 4   points       149414 non-null  int64   \n",
      " 5   price        135808 non-null  float64 \n",
      " 6   province     149409 non-null  category\n",
      " 7   region_1     124543 non-null  category\n",
      " 8   region_2     60567 non-null   category\n",
      " 9   variety      149414 non-null  category\n",
      " 10  winery       149414 non-null  category\n",
      "dtypes: category(7), float64(1), int64(2), object(1)\n",
      "memory usage: 9.4+ MB\n",
      "None\n"
     ]
    }
   ],
   "source": [
    "print(new_data.info())"
   ],
   "metadata": {
    "collapsed": false,
    "pycharm": {
     "name": "#%%\n"
    }
   }
  },
  {
   "cell_type": "markdown",
   "source": [
    "Из сводной информации видно, что у нас есть пустые значения во всех столбцах, кроме description, points, variety, winery.\n",
    "Так как столбец с названиями стран мы не можем никак качественно заполнить, то удалим сорты вин, где страна не указана."
   ],
   "metadata": {
    "collapsed": false,
    "pycharm": {
     "name": "#%% md\n"
    }
   }
  },
  {
   "cell_type": "code",
   "execution_count": 21,
   "outputs": [],
   "source": [
    "new_data.dropna(subset=['country'], inplace=True)"
   ],
   "metadata": {
    "collapsed": false,
    "pycharm": {
     "name": "#%%\n"
    }
   }
  },
  {
   "cell_type": "code",
   "execution_count": 22,
   "outputs": [
    {
     "name": "stdout",
     "output_type": "stream",
     "text": [
      "<class 'pandas.core.frame.DataFrame'>\n",
      "Int64Index: 149409 entries, 1 to 150929\n",
      "Data columns (total 11 columns):\n",
      " #   Column       Non-Null Count   Dtype   \n",
      "---  ------       --------------   -----   \n",
      " 0   Unnamed: 0   149409 non-null  int64   \n",
      " 1   country      149409 non-null  category\n",
      " 2   description  149409 non-null  object  \n",
      " 3   designation  104168 non-null  category\n",
      " 4   points       149409 non-null  int64   \n",
      " 5   price        135803 non-null  float64 \n",
      " 6   province     149409 non-null  category\n",
      " 7   region_1     124543 non-null  category\n",
      " 8   region_2     60567 non-null   category\n",
      " 9   variety      149409 non-null  category\n",
      " 10  winery       149409 non-null  category\n",
      "dtypes: category(7), float64(1), int64(2), object(1)\n",
      "memory usage: 9.4+ MB\n",
      "None\n"
     ]
    }
   ],
   "source": [
    "print(new_data.info())"
   ],
   "metadata": {
    "collapsed": false,
    "pycharm": {
     "name": "#%%\n"
    }
   }
  },
  {
   "cell_type": "markdown",
   "source": [
    "После удаления пустых строк в столбце country, столбцов с пустыми значениями осталось всего три - designation, price, region_1, region_2. Проделаем ту же оперцию со столбцами designation и region_1."
   ],
   "metadata": {
    "collapsed": false,
    "pycharm": {
     "name": "#%% md\n"
    }
   }
  },
  {
   "cell_type": "code",
   "execution_count": 23,
   "outputs": [],
   "source": [
    "new_data.dropna(subset=['designation'], inplace=True)\n",
    "new_data.dropna(subset=['region_1'], inplace=True)"
   ],
   "metadata": {
    "collapsed": false,
    "pycharm": {
     "name": "#%%\n"
    }
   }
  },
  {
   "cell_type": "code",
   "execution_count": 24,
   "outputs": [
    {
     "name": "stdout",
     "output_type": "stream",
     "text": [
      "<class 'pandas.core.frame.DataFrame'>\n",
      "Int64Index: 84749 entries, 1 to 150928\n",
      "Data columns (total 11 columns):\n",
      " #   Column       Non-Null Count  Dtype   \n",
      "---  ------       --------------  -----   \n",
      " 0   Unnamed: 0   84749 non-null  int64   \n",
      " 1   country      84749 non-null  category\n",
      " 2   description  84749 non-null  object  \n",
      " 3   designation  84749 non-null  category\n",
      " 4   points       84749 non-null  int64   \n",
      " 5   price        76489 non-null  float64 \n",
      " 6   province     84749 non-null  category\n",
      " 7   region_1     84749 non-null  category\n",
      " 8   region_2     39154 non-null  category\n",
      " 9   variety      84749 non-null  category\n",
      " 10  winery       84749 non-null  category\n",
      "dtypes: category(7), float64(1), int64(2), object(1)\n",
      "memory usage: 6.1+ MB\n"
     ]
    }
   ],
   "source": [
    "new_data.info()"
   ],
   "metadata": {
    "collapsed": false,
    "pycharm": {
     "name": "#%%\n"
    }
   }
  },
  {
   "cell_type": "markdown",
   "source": [
    "Количество наших данных сократилось до 84 749 строк. Из столбцов с пустыми значениями остались price и region_2. Проинтерполируем столбец price."
   ],
   "metadata": {
    "collapsed": false,
    "pycharm": {
     "name": "#%% md\n"
    }
   }
  },
  {
   "cell_type": "code",
   "execution_count": 25,
   "outputs": [
    {
     "name": "stdout",
     "output_type": "stream",
     "text": [
      "35.779863771261226\n"
     ]
    }
   ],
   "source": [
    "mean_val = new_data['price'].mean()\n",
    "print(mean_val)\n",
    "new_data['price'].interpolate(method='polynomial', order=2, inplace=True)"
   ],
   "metadata": {
    "collapsed": false,
    "pycharm": {
     "name": "#%%\n"
    }
   }
  },
  {
   "cell_type": "code",
   "execution_count": 26,
   "outputs": [
    {
     "name": "stdout",
     "output_type": "stream",
     "text": [
      "<class 'pandas.core.frame.DataFrame'>\n",
      "Int64Index: 84749 entries, 1 to 150928\n",
      "Data columns (total 11 columns):\n",
      " #   Column       Non-Null Count  Dtype   \n",
      "---  ------       --------------  -----   \n",
      " 0   Unnamed: 0   84749 non-null  int64   \n",
      " 1   country      84749 non-null  category\n",
      " 2   description  84749 non-null  object  \n",
      " 3   designation  84749 non-null  category\n",
      " 4   points       84749 non-null  int64   \n",
      " 5   price        84749 non-null  float64 \n",
      " 6   province     84749 non-null  category\n",
      " 7   region_1     84749 non-null  category\n",
      " 8   region_2     39154 non-null  category\n",
      " 9   variety      84749 non-null  category\n",
      " 10  winery       84749 non-null  category\n",
      "dtypes: category(7), float64(1), int64(2), object(1)\n",
      "memory usage: 6.1+ MB\n"
     ]
    }
   ],
   "source": [
    "new_data.info()"
   ],
   "metadata": {
    "collapsed": false,
    "pycharm": {
     "name": "#%%\n"
    }
   }
  },
  {
   "cell_type": "markdown",
   "source": [
    "И теперь скопируем в пропущенные значения столбца region_2 значения из столбца region_1."
   ],
   "metadata": {
    "collapsed": false,
    "pycharm": {
     "name": "#%% md\n"
    }
   }
  },
  {
   "cell_type": "code",
   "execution_count": 63,
   "outputs": [
    {
     "ename": "ValueError",
     "evalue": "new categories must not include old categories: {'Napa-Sonoma', 'Napa', 'Southern Oregon', 'Finger Lakes', 'Willamette Valley', 'South Coast', 'Sonoma', 'Sierra Foothills', 'Central Coast', 'Oregon Other', 'Long Island', 'North Coast', 'Central Valley'}",
     "output_type": "error",
     "traceback": [
      "\u001B[1;31m---------------------------------------------------------------------------\u001B[0m",
      "\u001B[1;31mValueError\u001B[0m                                Traceback (most recent call last)",
      "Input \u001B[1;32mIn [63]\u001B[0m, in \u001B[0;36m<cell line: 2>\u001B[1;34m()\u001B[0m\n\u001B[0;32m      1\u001B[0m df \u001B[38;5;241m=\u001B[39m new_data\u001B[38;5;241m.\u001B[39mcopy()\n\u001B[1;32m----> 2\u001B[0m dff \u001B[38;5;241m=\u001B[39m \u001B[43mdf\u001B[49m\u001B[43m[\u001B[49m\u001B[38;5;124;43m'\u001B[39;49m\u001B[38;5;124;43mregion_2\u001B[39;49m\u001B[38;5;124;43m'\u001B[39;49m\u001B[43m]\u001B[49m\u001B[38;5;241;43m.\u001B[39;49m\u001B[43mcat\u001B[49m\u001B[38;5;241;43m.\u001B[39;49m\u001B[43madd_categories\u001B[49m\u001B[43m(\u001B[49m\u001B[43mdf\u001B[49m\u001B[43m[\u001B[49m\u001B[38;5;124;43m'\u001B[39;49m\u001B[38;5;124;43mregion_1\u001B[39;49m\u001B[38;5;124;43m'\u001B[39;49m\u001B[43m]\u001B[49m\u001B[43m)\u001B[49m\u001B[38;5;241m.\u001B[39mfillna(df[\u001B[38;5;124m'\u001B[39m\u001B[38;5;124mregion_1\u001B[39m\u001B[38;5;124m'\u001B[39m])\n",
      "File \u001B[1;32mD:\\anaconda\\envs\\workspace\\lib\\site-packages\\pandas\\core\\accessor.py:94\u001B[0m, in \u001B[0;36mPandasDelegate._add_delegate_accessors.<locals>._create_delegator_method.<locals>.f\u001B[1;34m(self, *args, **kwargs)\u001B[0m\n\u001B[0;32m     93\u001B[0m \u001B[38;5;28;01mdef\u001B[39;00m \u001B[38;5;21mf\u001B[39m(\u001B[38;5;28mself\u001B[39m, \u001B[38;5;241m*\u001B[39margs, \u001B[38;5;241m*\u001B[39m\u001B[38;5;241m*\u001B[39mkwargs):\n\u001B[1;32m---> 94\u001B[0m     \u001B[38;5;28;01mreturn\u001B[39;00m \u001B[38;5;28mself\u001B[39m\u001B[38;5;241m.\u001B[39m_delegate_method(name, \u001B[38;5;241m*\u001B[39margs, \u001B[38;5;241m*\u001B[39m\u001B[38;5;241m*\u001B[39mkwargs)\n",
      "File \u001B[1;32mD:\\anaconda\\envs\\workspace\\lib\\site-packages\\pandas\\core\\arrays\\categorical.py:2747\u001B[0m, in \u001B[0;36mCategoricalAccessor._delegate_method\u001B[1;34m(self, name, *args, **kwargs)\u001B[0m\n\u001B[0;32m   2744\u001B[0m \u001B[38;5;28;01mfrom\u001B[39;00m \u001B[38;5;21;01mpandas\u001B[39;00m \u001B[38;5;28;01mimport\u001B[39;00m Series\n\u001B[0;32m   2746\u001B[0m method \u001B[38;5;241m=\u001B[39m \u001B[38;5;28mgetattr\u001B[39m(\u001B[38;5;28mself\u001B[39m\u001B[38;5;241m.\u001B[39m_parent, name)\n\u001B[1;32m-> 2747\u001B[0m res \u001B[38;5;241m=\u001B[39m method(\u001B[38;5;241m*\u001B[39margs, \u001B[38;5;241m*\u001B[39m\u001B[38;5;241m*\u001B[39mkwargs)\n\u001B[0;32m   2748\u001B[0m \u001B[38;5;28;01mif\u001B[39;00m res \u001B[38;5;129;01mis\u001B[39;00m \u001B[38;5;129;01mnot\u001B[39;00m \u001B[38;5;28;01mNone\u001B[39;00m:\n\u001B[0;32m   2749\u001B[0m     \u001B[38;5;28;01mreturn\u001B[39;00m Series(res, index\u001B[38;5;241m=\u001B[39m\u001B[38;5;28mself\u001B[39m\u001B[38;5;241m.\u001B[39m_index, name\u001B[38;5;241m=\u001B[39m\u001B[38;5;28mself\u001B[39m\u001B[38;5;241m.\u001B[39m_name)\n",
      "File \u001B[1;32mD:\\anaconda\\envs\\workspace\\lib\\site-packages\\pandas\\core\\arrays\\categorical.py:1198\u001B[0m, in \u001B[0;36mCategorical.add_categories\u001B[1;34m(self, new_categories, inplace)\u001B[0m\n\u001B[0;32m   1196\u001B[0m already_included \u001B[38;5;241m=\u001B[39m \u001B[38;5;28mset\u001B[39m(new_categories) \u001B[38;5;241m&\u001B[39m \u001B[38;5;28mset\u001B[39m(\u001B[38;5;28mself\u001B[39m\u001B[38;5;241m.\u001B[39mdtype\u001B[38;5;241m.\u001B[39mcategories)\n\u001B[0;32m   1197\u001B[0m \u001B[38;5;28;01mif\u001B[39;00m \u001B[38;5;28mlen\u001B[39m(already_included) \u001B[38;5;241m!=\u001B[39m \u001B[38;5;241m0\u001B[39m:\n\u001B[1;32m-> 1198\u001B[0m     \u001B[38;5;28;01mraise\u001B[39;00m \u001B[38;5;167;01mValueError\u001B[39;00m(\n\u001B[0;32m   1199\u001B[0m         \u001B[38;5;124mf\u001B[39m\u001B[38;5;124m\"\u001B[39m\u001B[38;5;124mnew categories must not include old categories: \u001B[39m\u001B[38;5;132;01m{\u001B[39;00malready_included\u001B[38;5;132;01m}\u001B[39;00m\u001B[38;5;124m\"\u001B[39m\n\u001B[0;32m   1200\u001B[0m     )\n\u001B[0;32m   1201\u001B[0m new_categories \u001B[38;5;241m=\u001B[39m \u001B[38;5;28mlist\u001B[39m(\u001B[38;5;28mself\u001B[39m\u001B[38;5;241m.\u001B[39mdtype\u001B[38;5;241m.\u001B[39mcategories) \u001B[38;5;241m+\u001B[39m \u001B[38;5;28mlist\u001B[39m(new_categories)\n\u001B[0;32m   1202\u001B[0m new_dtype \u001B[38;5;241m=\u001B[39m CategoricalDtype(new_categories, \u001B[38;5;28mself\u001B[39m\u001B[38;5;241m.\u001B[39mordered)\n",
      "\u001B[1;31mValueError\u001B[0m: new categories must not include old categories: {'Napa-Sonoma', 'Napa', 'Southern Oregon', 'Finger Lakes', 'Willamette Valley', 'South Coast', 'Sonoma', 'Sierra Foothills', 'Central Coast', 'Oregon Other', 'Long Island', 'North Coast', 'Central Valley'}"
     ]
    }
   ],
   "source": [
    "df = new_data.copy()\n",
    "dff = df['region_2'].cat.add_categories(df['region_1']).fillna(df['region_1'])"
   ],
   "metadata": {
    "collapsed": false,
    "pycharm": {
     "name": "#%%\n"
    }
   }
  },
  {
   "cell_type": "code",
   "execution_count": 35,
   "outputs": [],
   "source": [
    "new_data = new_data.drop(columns=['region_2'])"
   ],
   "metadata": {
    "collapsed": false,
    "pycharm": {
     "name": "#%%\n"
    }
   }
  },
  {
   "cell_type": "markdown",
   "source": [
    "Нормализуем наши данные в столбцах points и price, удалим столбец Unnamde: 0"
   ],
   "metadata": {
    "collapsed": false,
    "pycharm": {
     "name": "#%% md\n"
    }
   }
  },
  {
   "cell_type": "code",
   "execution_count": 36,
   "outputs": [],
   "source": [
    "new_data = new_data.drop(columns=['Unnamed: 0'])"
   ],
   "metadata": {
    "collapsed": false,
    "pycharm": {
     "name": "#%%\n"
    }
   }
  },
  {
   "cell_type": "code",
   "execution_count": 37,
   "outputs": [],
   "source": [
    "new_data['points'] = new_data['points'] / new_data['points'].max()\n",
    "new_data['price'] = new_data['price'] / new_data['price'].max()"
   ],
   "metadata": {
    "collapsed": false,
    "pycharm": {
     "name": "#%%\n"
    }
   }
  },
  {
   "cell_type": "code",
   "execution_count": 38,
   "outputs": [
    {
     "data": {
      "text/plain": "       country                                        description  \\\n1        Spain  Ripe aromas of fig, blackberry and cassis are ...   \n2           US  Mac Watson honors the memory of a wine once ma...   \n3           US  This spent 20 months in 30% new French oak, an...   \n4       France  This is the top wine from La Bégude, named aft...   \n5        Spain  Deep, dense and pure from the opening bell, th...   \n...        ...                                                ...   \n150923  France  Rich and toasty, with tiny bubbles. The bouque...   \n150924  France  Really fine for a low-acid vintage, there's an...   \n150926  France  Offers an intriguing nose with ginger, lime an...   \n150927   Italy  This classic example comes from a cru vineyard...   \n150928  France  A perfect salmon shade, with scents of peaches...   \n\n                                 designation    points     price  \\\n1       Carodorum Selección Especial Reserva  1.000000  0.225509   \n2              Special Selected Late Harvest  1.000000  0.184507   \n3                                    Reserve  1.000000  0.133255   \n4                                 La Brûlade  0.989583  0.135305   \n5                                  Numanthia  0.989583  0.149656   \n...                                      ...       ...       ...   \n150923                              Demi-Sec  0.947917  0.061502   \n150924                          Diamant Bleu  0.947917  0.143506   \n150926                        Cuvée Prestige  0.947917  0.055352   \n150927                         Terre di Dora  0.947917  0.041002   \n150928                       Grand Brut Rosé  0.937500  0.106604   \n\n              province           region_1             variety  \\\n1       Northern Spain               Toro       Tinta de Toro   \n2           California     Knights Valley     Sauvignon Blanc   \n3               Oregon  Willamette Valley          Pinot Noir   \n4             Provence             Bandol  Provence red blend   \n5       Northern Spain               Toro       Tinta de Toro   \n...                ...                ...                 ...   \n150923       Champagne          Champagne     Champagne Blend   \n150924       Champagne          Champagne     Champagne Blend   \n150926       Champagne          Champagne     Champagne Blend   \n150927  Southern Italy  Fiano di Avellino         White Blend   \n150928       Champagne          Champagne     Champagne Blend   \n\n                         winery  \n1       Bodega Carmen Rodríguez  \n2                      Macauley  \n3                         Ponzi  \n4          Domaine de la Bégude  \n5                     Numanthia  \n...                         ...  \n150923                 Jacquart  \n150924  Heidsieck & Co Monopole  \n150926                H.Germain  \n150927                Terredora  \n150928                   Gosset  \n\n[84749 rows x 9 columns]",
      "text/html": "<div>\n<style scoped>\n    .dataframe tbody tr th:only-of-type {\n        vertical-align: middle;\n    }\n\n    .dataframe tbody tr th {\n        vertical-align: top;\n    }\n\n    .dataframe thead th {\n        text-align: right;\n    }\n</style>\n<table border=\"1\" class=\"dataframe\">\n  <thead>\n    <tr style=\"text-align: right;\">\n      <th></th>\n      <th>country</th>\n      <th>description</th>\n      <th>designation</th>\n      <th>points</th>\n      <th>price</th>\n      <th>province</th>\n      <th>region_1</th>\n      <th>variety</th>\n      <th>winery</th>\n    </tr>\n  </thead>\n  <tbody>\n    <tr>\n      <th>1</th>\n      <td>Spain</td>\n      <td>Ripe aromas of fig, blackberry and cassis are ...</td>\n      <td>Carodorum Selección Especial Reserva</td>\n      <td>1.000000</td>\n      <td>0.225509</td>\n      <td>Northern Spain</td>\n      <td>Toro</td>\n      <td>Tinta de Toro</td>\n      <td>Bodega Carmen Rodríguez</td>\n    </tr>\n    <tr>\n      <th>2</th>\n      <td>US</td>\n      <td>Mac Watson honors the memory of a wine once ma...</td>\n      <td>Special Selected Late Harvest</td>\n      <td>1.000000</td>\n      <td>0.184507</td>\n      <td>California</td>\n      <td>Knights Valley</td>\n      <td>Sauvignon Blanc</td>\n      <td>Macauley</td>\n    </tr>\n    <tr>\n      <th>3</th>\n      <td>US</td>\n      <td>This spent 20 months in 30% new French oak, an...</td>\n      <td>Reserve</td>\n      <td>1.000000</td>\n      <td>0.133255</td>\n      <td>Oregon</td>\n      <td>Willamette Valley</td>\n      <td>Pinot Noir</td>\n      <td>Ponzi</td>\n    </tr>\n    <tr>\n      <th>4</th>\n      <td>France</td>\n      <td>This is the top wine from La Bégude, named aft...</td>\n      <td>La Brûlade</td>\n      <td>0.989583</td>\n      <td>0.135305</td>\n      <td>Provence</td>\n      <td>Bandol</td>\n      <td>Provence red blend</td>\n      <td>Domaine de la Bégude</td>\n    </tr>\n    <tr>\n      <th>5</th>\n      <td>Spain</td>\n      <td>Deep, dense and pure from the opening bell, th...</td>\n      <td>Numanthia</td>\n      <td>0.989583</td>\n      <td>0.149656</td>\n      <td>Northern Spain</td>\n      <td>Toro</td>\n      <td>Tinta de Toro</td>\n      <td>Numanthia</td>\n    </tr>\n    <tr>\n      <th>...</th>\n      <td>...</td>\n      <td>...</td>\n      <td>...</td>\n      <td>...</td>\n      <td>...</td>\n      <td>...</td>\n      <td>...</td>\n      <td>...</td>\n      <td>...</td>\n    </tr>\n    <tr>\n      <th>150923</th>\n      <td>France</td>\n      <td>Rich and toasty, with tiny bubbles. The bouque...</td>\n      <td>Demi-Sec</td>\n      <td>0.947917</td>\n      <td>0.061502</td>\n      <td>Champagne</td>\n      <td>Champagne</td>\n      <td>Champagne Blend</td>\n      <td>Jacquart</td>\n    </tr>\n    <tr>\n      <th>150924</th>\n      <td>France</td>\n      <td>Really fine for a low-acid vintage, there's an...</td>\n      <td>Diamant Bleu</td>\n      <td>0.947917</td>\n      <td>0.143506</td>\n      <td>Champagne</td>\n      <td>Champagne</td>\n      <td>Champagne Blend</td>\n      <td>Heidsieck &amp; Co Monopole</td>\n    </tr>\n    <tr>\n      <th>150926</th>\n      <td>France</td>\n      <td>Offers an intriguing nose with ginger, lime an...</td>\n      <td>Cuvée Prestige</td>\n      <td>0.947917</td>\n      <td>0.055352</td>\n      <td>Champagne</td>\n      <td>Champagne</td>\n      <td>Champagne Blend</td>\n      <td>H.Germain</td>\n    </tr>\n    <tr>\n      <th>150927</th>\n      <td>Italy</td>\n      <td>This classic example comes from a cru vineyard...</td>\n      <td>Terre di Dora</td>\n      <td>0.947917</td>\n      <td>0.041002</td>\n      <td>Southern Italy</td>\n      <td>Fiano di Avellino</td>\n      <td>White Blend</td>\n      <td>Terredora</td>\n    </tr>\n    <tr>\n      <th>150928</th>\n      <td>France</td>\n      <td>A perfect salmon shade, with scents of peaches...</td>\n      <td>Grand Brut Rosé</td>\n      <td>0.937500</td>\n      <td>0.106604</td>\n      <td>Champagne</td>\n      <td>Champagne</td>\n      <td>Champagne Blend</td>\n      <td>Gosset</td>\n    </tr>\n  </tbody>\n</table>\n<p>84749 rows × 9 columns</p>\n</div>"
     },
     "execution_count": 38,
     "metadata": {},
     "output_type": "execute_result"
    }
   ],
   "source": [
    "new_data"
   ],
   "metadata": {
    "collapsed": false,
    "pycharm": {
     "name": "#%%\n"
    }
   }
  },
  {
   "cell_type": "markdown",
   "source": [
    "После того, как данные обработались, можно разделить их на тестовую и обучающую выборки. Возьмем за y variety. Данные с описанием вина нам не нужны, так как мы еще не умеем с ними работать и предобрабатывать их."
   ],
   "metadata": {
    "collapsed": false,
    "pycharm": {
     "name": "#%% md\n"
    }
   }
  },
  {
   "cell_type": "code",
   "execution_count": 44,
   "outputs": [],
   "source": [
    "y = new_data['variety']\n",
    "new_data = new_data.drop(columns='variety')"
   ],
   "metadata": {
    "collapsed": false,
    "pycharm": {
     "name": "#%%\n"
    }
   }
  },
  {
   "cell_type": "code",
   "execution_count": 47,
   "outputs": [],
   "source": [
    "new_data = new_data.drop(columns='description')"
   ],
   "metadata": {
    "collapsed": false,
    "pycharm": {
     "name": "#%%\n"
    }
   }
  },
  {
   "cell_type": "code",
   "execution_count": 55,
   "outputs": [],
   "source": [
    "from sklearn.preprocessing import LabelEncoder\n",
    "le = LabelEncoder()\n",
    "le.fit(new_data.country)\n",
    "new_data['country'] = le.transform(new_data.country)"
   ],
   "metadata": {
    "collapsed": false,
    "pycharm": {
     "name": "#%%\n"
    }
   }
  },
  {
   "cell_type": "code",
   "execution_count": 62,
   "outputs": [],
   "source": [
    "le.fit(new_data.designation)\n",
    "new_data['designation'] = le.transform(new_data.designation)\n",
    "le.fit(new_data.province)\n",
    "new_data['province'] = le.transform(new_data.province)\n",
    "\n",
    "le.fit(new_data.region_1)\n",
    "new_data['region_1'] = le.transform(new_data.region_1)\n",
    "le.fit(new_data.winery)\n",
    "new_data['winery'] = le.transform(new_data.winery)"
   ],
   "metadata": {
    "collapsed": false,
    "pycharm": {
     "name": "#%%\n"
    }
   }
  },
  {
   "cell_type": "code",
   "execution_count": 46,
   "outputs": [],
   "source": [
    "from sklearn.model_selection import train_test_split"
   ],
   "metadata": {
    "collapsed": false,
    "pycharm": {
     "name": "#%%\n"
    }
   }
  },
  {
   "cell_type": "code",
   "execution_count": 63,
   "outputs": [],
   "source": [
    "X_train, X_test, y_train, y_test = train_test_split(new_data, y, random_state=42)"
   ],
   "metadata": {
    "collapsed": false,
    "pycharm": {
     "name": "#%%\n"
    }
   }
  },
  {
   "cell_type": "code",
   "execution_count": 64,
   "outputs": [
    {
     "data": {
      "text/plain": "(63561, 7)"
     },
     "execution_count": 64,
     "metadata": {},
     "output_type": "execute_result"
    }
   ],
   "source": [
    "X_train.shape"
   ],
   "metadata": {
    "collapsed": false,
    "pycharm": {
     "name": "#%%\n"
    }
   }
  },
  {
   "cell_type": "code",
   "execution_count": 65,
   "outputs": [
    {
     "data": {
      "text/plain": "(21188, 7)"
     },
     "execution_count": 65,
     "metadata": {},
     "output_type": "execute_result"
    }
   ],
   "source": [
    "X_test.shape"
   ],
   "metadata": {
    "collapsed": false,
    "pycharm": {
     "name": "#%%\n"
    }
   }
  },
  {
   "cell_type": "code",
   "execution_count": 52,
   "outputs": [],
   "source": [
    "from sklearn.neighbors import KNeighborsClassifier"
   ],
   "metadata": {
    "collapsed": false,
    "pycharm": {
     "name": "#%%\n"
    }
   }
  },
  {
   "cell_type": "code",
   "execution_count": 67,
   "outputs": [],
   "source": [
    "classifier = KNeighborsClassifier(n_neighbors=5)\n",
    "classifier.fit(X_train, y_train)\n",
    "y_pred = classifier.predict(X_test)"
   ],
   "metadata": {
    "collapsed": false,
    "pycharm": {
     "name": "#%%\n"
    }
   }
  },
  {
   "cell_type": "code",
   "execution_count": 71,
   "outputs": [],
   "source": [
    "error = []\n",
    "\n",
    "# Calculating error for K values between 1 and 40\n",
    "for i in range(1, 40):\n",
    "    knn = KNeighborsClassifier(n_neighbors=i)\n",
    "    knn.fit(X_train, y_train)\n",
    "    pred_i = knn.predict(X_test)\n",
    "    error.append(np.mean(pred_i != y_test))"
   ],
   "metadata": {
    "collapsed": false,
    "pycharm": {
     "name": "#%%\n"
    }
   }
  },
  {
   "cell_type": "code",
   "execution_count": 72,
   "outputs": [
    {
     "data": {
      "text/plain": "Text(0, 0.5, 'Mean Error')"
     },
     "execution_count": 72,
     "metadata": {},
     "output_type": "execute_result"
    },
    {
     "data": {
      "text/plain": "<Figure size 1200x600 with 1 Axes>",
      "image/png": "[encoded data removed]"
     },
     "metadata": {},
     "output_type": "display_data"
    }
   ],
   "source": [
    "plt.figure(figsize=(12, 6))\n",
    "plt.plot(range(1, 40), error, color='red', linestyle='dashed', marker='o',\n",
    "         markerfacecolor='blue', markersize=10)\n",
    "plt.title('Error Rate K Value')\n",
    "plt.xlabel('K Value')\n",
    "plt.ylabel('Mean Error')"
   ],
   "metadata": {
    "collapsed": false,
    "pycharm": {
     "name": "#%%\n"
    }
   }
  },
  {
   "cell_type": "markdown",
   "source": [
    "Из построенных моделей видно, что, когда значение общих соседей превышает 5, то ошибка превышает 50% и стремится к 100%. Таким образом, 3-4 соседа самые оптимальные."
   ],
   "metadata": {
    "collapsed": false,
    "pycharm": {
     "name": "#%% md\n"
    }
   }
  },
  {
   "cell_type": "code",
   "execution_count": 76,
   "outputs": [],
   "source": [
    "knn = KNeighborsClassifier(n_neighbors=3)\n",
    "knn.fit(X_train, y_train)\n",
    "pred_i = knn.predict(X_train)\n",
    "error_train = np.mean(pred_i != y_train)\n",
    "pred_i = knn.predict(X_test)\n",
    "error_test = np.mean(pred_i != y_test)"
   ],
   "metadata": {
    "collapsed": false,
    "pycharm": {
     "name": "#%%\n"
    }
   }
  },
  {
   "cell_type": "code",
   "execution_count": 77,
   "outputs": [
    {
     "name": "stdout",
     "output_type": "stream",
     "text": [
      "0.4277893147064376\n",
      "0.20172747439467598\n"
     ]
    }
   ],
   "source": [
    "print(error_test)\n",
    "print(error_train)"
   ],
   "metadata": {
    "collapsed": false,
    "pycharm": {
     "name": "#%%\n"
    }
   }
  },
  {
   "cell_type": "markdown",
   "source": [
    "Видно, что данный метод классификации не очень хорошо подходит для работы с данными данными. Даже с маленьким количеством соседей точность на обучающей выборке равна 20%, на тестовой - 42%."
   ],
   "metadata": {
    "collapsed": false,
    "pycharm": {
     "name": "#%% md\n"
    }
   }
  }
 ],
 "metadata": {
  "kernelspec": {
   "display_name": "Python 3",
   "language": "python",
   "name": "python3"
  },
  "language_info": {
   "codemirror_mode": {
    "name": "ipython",
    "version": 2
   },
   "file_extension": ".py",
   "mimetype": "text/x-python",
   "name": "python",
   "nbconvert_exporter": "python",
   "pygments_lexer": "ipython2",
   "version": "2.7.6"
  }
 },
 "nbformat": 4,
 "nbformat_minor": 0
}